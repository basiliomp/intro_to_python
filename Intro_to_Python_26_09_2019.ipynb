{
 "cells": [
  {
   "cell_type": "markdown",
   "metadata": {},
   "source": [
    "# Second class\n"
   ]
  },
  {
   "cell_type": "code",
   "execution_count": null,
   "metadata": {},
   "outputs": [],
   "source": [
    "# Run in python Anaconda Prompt\n",
    "conda create -n intropython python=3.7 jupyter numpy pandas matplotlib scikit-learn\n",
    "\n",
    "#activate environment\n",
    "conda activate intropython\n",
    "\n",
    "# Run the following code (after the '$' sign)\n",
    "### (intropython)$ jupyter notebook\n",
    "# Now you should be prompted with the jupyter app in a browser window.\n"
   ]
  },
  {
   "cell_type": "code",
   "execution_count": 18,
   "metadata": {},
   "outputs": [
    {
     "data": {
      "text/plain": [
       "4"
      ]
     },
     "execution_count": 18,
     "metadata": {},
     "output_type": "execute_result"
    }
   ],
   "source": [
    "# Create a list, wich is a conjunction of elemtents. Those elements may be of different types.\n",
    "heterogeneous_list = [1, True, \"three\", 4]\n",
    "\n",
    "# We can subset elements from the list using square braquets [] \n",
    "# Python starts counting at 0: the first index position is 0, the second one is 1, and so on.\n",
    "# We can call a position in reverse order (starting from the end of the list)\n",
    "heterogeneous_list[-1]"
   ]
  },
  {
   "cell_type": "code",
   "execution_count": 19,
   "metadata": {},
   "outputs": [
    {
     "name": "stdout",
     "output_type": "stream",
     "text": [
      "[1, True, 'three', 4, 'five']\n"
     ]
    }
   ],
   "source": [
    "# Add elements to the list heterogénea\n",
    "heterogeneous_list.append(\"five\")\n",
    "print(heterogeneous_list)\n",
    "\n",
    "# Here we are using for the first time a method. That is, the \".append\" included at the end of our object's name.\n",
    "# Python is an object-oriented language. This implies that there are certain types of commands, called methods, \n",
    "# wich can be applied to objets. Methods are a set of operations that can be applied over objects."
   ]
  },
  {
   "cell_type": "code",
   "execution_count": 20,
   "metadata": {},
   "outputs": [
    {
     "data": {
      "text/plain": [
       "['three', 'five']"
      ]
     },
     "execution_count": 20,
     "metadata": {},
     "output_type": "execute_result"
    }
   ],
   "source": [
    "# More on slicing\n",
    "# list[start : end : step]\n",
    "heterogeneous_list[2::2]"
   ]
  },
  {
   "cell_type": "code",
   "execution_count": null,
   "metadata": {},
   "outputs": [],
   "source": [
    "# A list is a mutable concatenation of objects, with no constrains on the type of information stored."
   ]
  },
  {
   "cell_type": "code",
   "execution_count": 25,
   "metadata": {},
   "outputs": [
    {
     "data": {
      "text/plain": [
       "list"
      ]
     },
     "execution_count": 25,
     "metadata": {},
     "output_type": "execute_result"
    }
   ],
   "source": [
    "# Matrixes\n",
    "matrix = [[1 , 2], [3, 4]]\n",
    "matrix[0]"
   ]
  },
  {
   "cell_type": "code",
   "execution_count": 24,
   "metadata": {},
   "outputs": [
    {
     "data": {
      "text/plain": [
       "int"
      ]
     },
     "execution_count": 24,
     "metadata": {},
     "output_type": "execute_result"
    }
   ],
   "source": [
    "# Slicing within matrixes\n",
    "matrix[0][0]"
   ]
  },
  {
   "cell_type": "code",
   "execution_count": 4,
   "metadata": {},
   "outputs": [
    {
     "name": "stdout",
     "output_type": "stream",
     "text": [
      "[1, 2, 3, ['a', 'b', 'c']]\n"
     ]
    }
   ],
   "source": [
    "# Difference between the method .append() and the method .extend()\n",
    "l0 = [1, 2, 3]\n",
    "l1 = ['a', 'b', 'c']\n",
    "\n",
    "l0.append(l1)\n",
    "print(l0)\n",
    "\n",
    "l"
   ]
  },
  {
   "cell_type": "code",
   "execution_count": 8,
   "metadata": {},
   "outputs": [
    {
     "ename": "TypeError",
     "evalue": "'tuple' object does not support item assignment",
     "output_type": "error",
     "traceback": [
      "\u001b[1;31m---------------------------------------------------------------------------\u001b[0m",
      "\u001b[1;31mTypeError\u001b[0m                                 Traceback (most recent call last)",
      "\u001b[1;32m<ipython-input-8-451f212b5572>\u001b[0m in \u001b[0;36m<module>\u001b[1;34m\u001b[0m\n\u001b[0;32m      6\u001b[0m \u001b[1;33m\u001b[0m\u001b[0m\n\u001b[0;32m      7\u001b[0m \u001b[1;31m# Since tuples are immutable, trying to rewrite, delete of modify its elements will raise an error.\u001b[0m\u001b[1;33m\u001b[0m\u001b[1;33m\u001b[0m\u001b[1;33m\u001b[0m\u001b[0m\n\u001b[1;32m----> 8\u001b[1;33m \u001b[0mmytuple\u001b[0m\u001b[1;33m[\u001b[0m\u001b[1;36m3\u001b[0m\u001b[1;33m]\u001b[0m \u001b[1;33m=\u001b[0m \u001b[1;36m3\u001b[0m\u001b[1;33m\u001b[0m\u001b[1;33m\u001b[0m\u001b[0m\n\u001b[0m\u001b[0;32m      9\u001b[0m \u001b[1;33m\u001b[0m\u001b[0m\n\u001b[0;32m     10\u001b[0m \u001b[1;31m# As we did with lists, tuples also have methods assigned. We can use them writing a\u001b[0m\u001b[1;33m\u001b[0m\u001b[1;33m\u001b[0m\u001b[1;33m\u001b[0m\u001b[0m\n",
      "\u001b[1;31mTypeError\u001b[0m: 'tuple' object does not support item assignment"
     ]
    }
   ],
   "source": [
    "# Tuples\n",
    "# An immutable list is of objects, with no constrains on the type of information stored.\n",
    "\n",
    "mytuple = (1, True, \"three\", 4)\n",
    "type(mytuple)\n",
    "\n",
    "# Since tuples are immutable, trying to rewrite, delete of modify its elements will raise an error.\n",
    "mytuple[3] = 3"
   ]
  },
  {
   "cell_type": "code",
   "execution_count": null,
   "metadata": {},
   "outputs": [],
   "source": [
    "# As we did with lists, tuples also have methods assigned. We can use them writing a \n",
    "# dot and the name of the method after the name of the tuple.\n",
    "\n",
    "# Use 'tab' after the dot to get a hint of the methods available for the type of object in use.\n",
    "mytuple.count()\n",
    "mytuple.index()\n",
    "\n",
    "# Slicing works the same way in tuples and lists.\n",
    "mytuple[0]\n",
    "mytuple[0::3]"
   ]
  },
  {
   "cell_type": "markdown",
   "metadata": {},
   "source": [
    "# Assignment\n",
    "\n",
    "Build the following matrix:\n",
    "$$\\begin{pmatrix}\n",
    "3 & 4 & 7 & 2 \\\\\n",
    "1 & 0 & 1 & 1 \\\\\n",
    "5 & 6 & 3 & 10\n",
    "\\end{pmatrix}$$\n",
    "\n",
    "Calculate the following operations:\n",
    " - Mean of each column.\n",
    " - Mean of each row.\n",
    " - Number of elements in the matrix.\n",
    " - Sum of all the elements ins the matrix.\n",
    " - Minimum value in the matrix.\n",
    " - Maximum value in the matrix."
   ]
  },
  {
   "cell_type": "markdown",
   "metadata": {},
   "source": [
    "### Operators and language"
   ]
  },
  {
   "cell_type": "code",
   "execution_count": 15,
   "metadata": {},
   "outputs": [
    {
     "data": {
      "text/plain": [
       "'hi'"
      ]
     },
     "execution_count": 15,
     "metadata": {},
     "output_type": "execute_result"
    }
   ],
   "source": [
    "# We can operate with strings using mathematical operators, in a similar way we do with numbres.\n",
    "'h' + 'i'"
   ]
  },
  {
   "cell_type": "code",
   "execution_count": 16,
   "metadata": {},
   "outputs": [
    {
     "data": {
      "text/plain": [
       "'hellohellohellohello'"
      ]
     },
     "execution_count": 16,
     "metadata": {},
     "output_type": "execute_result"
    }
   ],
   "source": [
    "# Another example\n",
    "'hello' * 4"
   ]
  },
  {
   "cell_type": "markdown",
   "metadata": {},
   "source": [
    "#### Types of errors\n",
    "\n",
    "**Lexical error**\n",
    "Those where we are not naming things right. For example, when mispelling a functions or a variable.\n",
    "\n",
    "prnit('a')\n",
    "\n",
    "**Syntax error**\n",
    "\n",
    "**Semanthic error**\n"
   ]
  }
 ],
 "metadata": {
  "kernelspec": {
   "display_name": "Python 3",
   "language": "python",
   "name": "python3"
  },
  "language_info": {
   "codemirror_mode": {
    "name": "ipython",
    "version": 3
   },
   "file_extension": ".py",
   "mimetype": "text/x-python",
   "name": "python",
   "nbconvert_exporter": "python",
   "pygments_lexer": "ipython3",
   "version": "3.7.3"
  }
 },
 "nbformat": 4,
 "nbformat_minor": 2
}
