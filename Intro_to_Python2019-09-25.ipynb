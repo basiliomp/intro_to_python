{
 "cells": [
  {
   "cell_type": "markdown",
   "metadata": {},
   "source": [
    "# My first _Jupyter Notebook_ !\n"
   ]
  },
  {
   "cell_type": "code",
   "execution_count": null,
   "metadata": {},
   "outputs": [],
   "source": [
    "# Run in python Anaconda Prompt\n",
    "conda create -n intropython python=3.7 jupyter numpy pandas matplotlib scikit-learn\n",
    "\n",
    "#activate environment\n",
    "conda activate intropython\n",
    "\n",
    "# Run the following code (after the '$' sign)\n",
    "(intropython)$ jupyter notebook\n",
    "# Now you should be prompted with the jupyter app in a browser window.\n",
    "\n",
    "# While on a jupyter notebook can get information on the methods we are prompted with using the shortcut shift + tab."
   ]
  },
  {
   "cell_type": "markdown",
   "metadata": {},
   "source": [
    "# Assignment"
   ]
  },
  {
   "cell_type": "code",
   "execution_count": null,
   "metadata": {},
   "outputs": [],
   "source": [
    "# Pedir al usuario un tamaño de diámetro por teclado y calcular el área del círculo con el diámetro proporcionado. \n",
    "# Imprimir el resultado en pantalla.\n",
    "\n",
    "# Solución inicial\n",
    "diametro = input(\"Introduce el número correspondiente al diámetro del círculo: \")\n",
    "area_circulo = ((float(diametro) / 2) ** 2) * 3.141592\n",
    "\n",
    "print(area_circulo)"
   ]
  },
  {
   "cell_type": "code",
   "execution_count": null,
   "metadata": {},
   "outputs": [],
   "source": [
    "# Solución en una línea\n",
    "print(\"El área es\", ((float(input(\"Introduce el número correspondiente al diámetro del círculo: \"))/2) ** 2) * 3.141592)"
   ]
  }
 ],
 "metadata": {
  "kernelspec": {
   "display_name": "Python 3",
   "language": "python",
   "name": "python3"
  },
  "language_info": {
   "codemirror_mode": {
    "name": "ipython",
    "version": 3
   },
   "file_extension": ".py",
   "mimetype": "text/x-python",
   "name": "python",
   "nbconvert_exporter": "python",
   "pygments_lexer": "ipython3",
   "version": "3.7.3"
  }
 },
 "nbformat": 4,
 "nbformat_minor": 2
}
